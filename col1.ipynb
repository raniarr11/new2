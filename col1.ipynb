{
  "nbformat": 4,
  "nbformat_minor": 0,
  "metadata": {
    "colab": {
      "provenance": [],
      "authorship_tag": "ABX9TyM7e9uLuLBpeHYJsbJh7goP"
    },
    "kernelspec": {
      "name": "python3",
      "display_name": "Python 3"
    },
    "language_info": {
      "name": "python"
    }
  },
  "cells": [
    {
      "cell_type": "code",
      "execution_count": null,
      "metadata": {
        "id": "Gal5t-GoYmJz"
      },
      "outputs": [],
      "source": [
        "x=0\n",
        "z=1\n",
        "s=x+z"
      ]
    }
  ]
}